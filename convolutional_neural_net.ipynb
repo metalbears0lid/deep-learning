{
 "cells": [
  {
   "cell_type": "markdown",
   "id": "e86d85d6-eaa6-4c76-a7fd-efe80fc844fe",
   "metadata": {},
   "source": [
    "# CNN with tensorflow"
   ]
  },
  {
   "cell_type": "code",
   "execution_count": 1,
   "id": "753a1924-69fa-44ab-ab04-2dfa72895f72",
   "metadata": {
    "execution": {
     "iopub.execute_input": "2023-09-05T19:41:52.482622Z",
     "iopub.status.busy": "2023-09-05T19:41:52.482528Z",
     "iopub.status.idle": "2023-09-05T19:41:53.502891Z",
     "shell.execute_reply": "2023-09-05T19:41:53.502469Z",
     "shell.execute_reply.started": "2023-09-05T19:41:52.482613Z"
    },
    "tags": []
   },
   "outputs": [
    {
     "name": "stderr",
     "output_type": "stream",
     "text": [
      "2023-09-05 14:41:52.589157: I tensorflow/core/util/port.cc:110] oneDNN custom operations are on. You may see slightly different numerical results due to floating-point round-off errors from different computation orders. To turn them off, set the environment variable `TF_ENABLE_ONEDNN_OPTS=0`.\n",
      "2023-09-05 14:41:52.590343: I tensorflow/tsl/cuda/cudart_stub.cc:28] Could not find cuda drivers on your machine, GPU will not be used.\n",
      "2023-09-05 14:41:52.609885: I tensorflow/tsl/cuda/cudart_stub.cc:28] Could not find cuda drivers on your machine, GPU will not be used.\n",
      "2023-09-05 14:41:52.610409: I tensorflow/core/platform/cpu_feature_guard.cc:182] This TensorFlow binary is optimized to use available CPU instructions in performance-critical operations.\n",
      "To enable the following instructions: AVX2 AVX_VNNI FMA, in other operations, rebuild TensorFlow with the appropriate compiler flags.\n",
      "2023-09-05 14:41:53.040435: W tensorflow/compiler/tf2tensorrt/utils/py_utils.cc:38] TF-TRT Warning: Could not find TensorRT\n"
     ]
    },
    {
     "data": {
      "text/plain": [
       "'2.13.0'"
      ]
     },
     "execution_count": 1,
     "metadata": {},
     "output_type": "execute_result"
    }
   ],
   "source": [
    "import tensorflow as tf\n",
    "\n",
    "tf.__version__"
   ]
  },
  {
   "cell_type": "markdown",
   "id": "fa7bf1c8-9827-4149-85d5-648aa8333eb1",
   "metadata": {},
   "source": [
    "## Preprocess data"
   ]
  },
  {
   "cell_type": "code",
   "execution_count": 2,
   "id": "eb0154f1-eace-42b5-96ed-6e09db8df464",
   "metadata": {
    "execution": {
     "iopub.execute_input": "2023-09-05T19:46:51.764449Z",
     "iopub.status.busy": "2023-09-05T19:46:51.762974Z",
     "iopub.status.idle": "2023-09-05T19:46:51.767248Z",
     "shell.execute_reply": "2023-09-05T19:46:51.766764Z",
     "shell.execute_reply.started": "2023-09-05T19:46:51.764381Z"
    },
    "tags": []
   },
   "outputs": [],
   "source": [
    "from keras.preprocessing.image import ImageDataGenerator"
   ]
  },
  {
   "cell_type": "markdown",
   "id": "cf7b58a9-8c6d-451f-bd84-d89c4cc1d701",
   "metadata": {},
   "source": [
    "### Training data preprocessing"
   ]
  },
  {
   "cell_type": "code",
   "execution_count": 3,
   "id": "06cf5805-08cd-4fae-919f-e80c57c670b4",
   "metadata": {
    "execution": {
     "iopub.execute_input": "2023-09-05T19:46:53.860032Z",
     "iopub.status.busy": "2023-09-05T19:46:53.857847Z",
     "iopub.status.idle": "2023-09-05T19:46:54.066384Z",
     "shell.execute_reply": "2023-09-05T19:46:54.065829Z",
     "shell.execute_reply.started": "2023-09-05T19:46:53.859972Z"
    },
    "tags": []
   },
   "outputs": [
    {
     "name": "stdout",
     "output_type": "stream",
     "text": [
      "Found 8000 images belonging to 2 classes.\n"
     ]
    }
   ],
   "source": [
    "train_datagen = ImageDataGenerator(\n",
    "    rescale=1./255,\n",
    "    shear_range=0.2,\n",
    "    zoom_range=0.2,\n",
    "    horizontal_flip=True\n",
    ")\n",
    "\n",
    "train_generator = train_datagen.flow_from_directory(\n",
    "    'data/cnn/training_set',\n",
    "    target_size=(64, 64),\n",
    "    batch_size=32,\n",
    "    class_mode='binary'\n",
    ")"
   ]
  },
  {
   "cell_type": "code",
   "execution_count": 4,
   "id": "fc8b2ac0",
   "metadata": {
    "execution": {
     "iopub.execute_input": "2023-09-05T19:46:54.913281Z",
     "iopub.status.busy": "2023-09-05T19:46:54.912180Z",
     "iopub.status.idle": "2023-09-05T19:46:54.920725Z",
     "shell.execute_reply": "2023-09-05T19:46:54.919807Z",
     "shell.execute_reply.started": "2023-09-05T19:46:54.913234Z"
    },
    "tags": []
   },
   "outputs": [
    {
     "data": {
      "text/plain": [
       "(64, 64, 3)"
      ]
     },
     "execution_count": 4,
     "metadata": {},
     "output_type": "execute_result"
    }
   ],
   "source": [
    "# See image shape for input_shape param in tf.keras.layers.Conv2D\n",
    "train_generator.image_shape"
   ]
  },
  {
   "cell_type": "markdown",
   "id": "0c3cf748-2b0f-4632-9cc4-c6731292a1ec",
   "metadata": {},
   "source": [
    "### Test data preprocessing"
   ]
  },
  {
   "cell_type": "code",
   "execution_count": 5,
   "id": "2c5f0240-ad4e-47e9-8453-da1991f7bb21",
   "metadata": {
    "execution": {
     "iopub.execute_input": "2023-09-05T19:46:55.729057Z",
     "iopub.status.busy": "2023-09-05T19:46:55.727706Z",
     "iopub.status.idle": "2023-09-05T19:46:55.789276Z",
     "shell.execute_reply": "2023-09-05T19:46:55.788851Z",
     "shell.execute_reply.started": "2023-09-05T19:46:55.729004Z"
    },
    "tags": []
   },
   "outputs": [
    {
     "name": "stdout",
     "output_type": "stream",
     "text": [
      "Found 2000 images belonging to 2 classes.\n"
     ]
    }
   ],
   "source": [
    "test_datagen = ImageDataGenerator(rescale=1./255)\n",
    "\n",
    "validation_generator = test_datagen.flow_from_directory(\n",
    "        'data/cnn/test_set',\n",
    "        target_size=(64, 64),\n",
    "        batch_size=32,\n",
    "        class_mode='binary')"
   ]
  },
  {
   "cell_type": "markdown",
   "id": "6683eb74-c685-4db0-826c-c07d09b16de0",
   "metadata": {},
   "source": [
    "## Building the CNN"
   ]
  },
  {
   "cell_type": "markdown",
   "id": "8a0a44ee",
   "metadata": {},
   "source": [
    "### Convolution"
   ]
  },
  {
   "cell_type": "code",
   "execution_count": 6,
   "id": "ad0df39a-6e1f-4694-ba54-b73faf6cfab4",
   "metadata": {
    "execution": {
     "iopub.execute_input": "2023-09-05T19:46:57.576478Z",
     "iopub.status.busy": "2023-09-05T19:46:57.575726Z",
     "iopub.status.idle": "2023-09-05T19:46:57.894209Z",
     "shell.execute_reply": "2023-09-05T19:46:57.893412Z",
     "shell.execute_reply.started": "2023-09-05T19:46:57.576422Z"
    },
    "tags": []
   },
   "outputs": [
    {
     "name": "stderr",
     "output_type": "stream",
     "text": [
      "2023-09-05 14:46:57.728299: I tensorflow/compiler/xla/stream_executor/cuda/cuda_gpu_executor.cc:981] could not open file to read NUMA node: /sys/bus/pci/devices/0000:01:00.0/numa_node\n",
      "Your kernel may have been built without NUMA support.\n",
      "2023-09-05 14:46:57.857204: W tensorflow/core/common_runtime/gpu/gpu_device.cc:1960] Cannot dlopen some GPU libraries. Please make sure the missing libraries mentioned above are installed properly if you would like to use GPU. Follow the guide at https://www.tensorflow.org/install/gpu for how to download and setup the required libraries for your platform.\n",
      "Skipping registering GPU devices...\n"
     ]
    }
   ],
   "source": [
    "cnn = tf.keras.models.Sequential()\n",
    "cnn.add(tf.keras.layers.Conv2D(\n",
    "    filters=32,\n",
    "    kernel_size=3,\n",
    "    input_shape=[64, 64, 3]\n",
    "))"
   ]
  },
  {
   "cell_type": "markdown",
   "id": "d9458028",
   "metadata": {},
   "source": [
    "### Pooling"
   ]
  },
  {
   "cell_type": "code",
   "execution_count": 7,
   "id": "04ab4433",
   "metadata": {
    "execution": {
     "iopub.execute_input": "2023-09-05T19:46:57.895612Z",
     "iopub.status.busy": "2023-09-05T19:46:57.895157Z",
     "iopub.status.idle": "2023-09-05T19:46:57.900356Z",
     "shell.execute_reply": "2023-09-05T19:46:57.899860Z",
     "shell.execute_reply.started": "2023-09-05T19:46:57.895598Z"
    },
    "tags": []
   },
   "outputs": [],
   "source": [
    "cnn.add(tf.keras.layers.MaxPool2D(\n",
    "    pool_size=(2, 2),\n",
    "    strides=2\n",
    "))"
   ]
  },
  {
   "cell_type": "markdown",
   "id": "818f404b-2d26-4f6e-8b48-00248bb22f71",
   "metadata": {},
   "source": [
    "## Train the CNN"
   ]
  },
  {
   "cell_type": "code",
   "execution_count": 8,
   "id": "383f6a17",
   "metadata": {
    "execution": {
     "iopub.execute_input": "2023-09-05T19:46:58.074724Z",
     "iopub.status.busy": "2023-09-05T19:46:58.074216Z",
     "iopub.status.idle": "2023-09-05T19:46:58.087447Z",
     "shell.execute_reply": "2023-09-05T19:46:58.086906Z",
     "shell.execute_reply.started": "2023-09-05T19:46:58.074702Z"
    },
    "tags": []
   },
   "outputs": [],
   "source": [
    "cnn.compile(\n",
    "    optimizer='adam',\n",
    "    loss='binary_crossentropy',\n",
    "    metrics=['accuracy']\n",
    ")"
   ]
  },
  {
   "cell_type": "code",
   "execution_count": 10,
   "id": "ff654605-b2f9-49a5-abf3-57747e09cb5d",
   "metadata": {
    "execution": {
     "iopub.execute_input": "2023-09-05T19:49:39.987719Z",
     "iopub.status.busy": "2023-09-05T19:49:39.987279Z",
     "iopub.status.idle": "2023-09-05T19:49:40.310239Z",
     "shell.execute_reply": "2023-09-05T19:49:40.309120Z",
     "shell.execute_reply.started": "2023-09-05T19:49:39.987701Z"
    },
    "tags": []
   },
   "outputs": [
    {
     "name": "stdout",
     "output_type": "stream",
     "text": [
      "Epoch 1/25\n"
     ]
    },
    {
     "ename": "InvalidArgumentError",
     "evalue": "Graph execution error:\n\nDetected at node 'Equal' defined at (most recent call last):\n    File \"/home/jkim/.pyenv/versions/3.10.12/lib/python3.10/runpy.py\", line 196, in _run_module_as_main\n      return _run_code(code, main_globals, None,\n    File \"/home/jkim/.pyenv/versions/3.10.12/lib/python3.10/runpy.py\", line 86, in _run_code\n      exec(code, run_globals)\n    File \"/home/jkim/.pyenv/versions/ai-310/lib/python3.10/site-packages/ipykernel_launcher.py\", line 17, in <module>\n      app.launch_new_instance()\n    File \"/home/jkim/.pyenv/versions/ai-310/lib/python3.10/site-packages/traitlets/config/application.py\", line 1043, in launch_instance\n      app.start()\n    File \"/home/jkim/.pyenv/versions/ai-310/lib/python3.10/site-packages/ipykernel/kernelapp.py\", line 736, in start\n      self.io_loop.start()\n    File \"/home/jkim/.pyenv/versions/ai-310/lib/python3.10/site-packages/tornado/platform/asyncio.py\", line 195, in start\n      self.asyncio_loop.run_forever()\n    File \"/home/jkim/.pyenv/versions/3.10.12/lib/python3.10/asyncio/base_events.py\", line 603, in run_forever\n      self._run_once()\n    File \"/home/jkim/.pyenv/versions/3.10.12/lib/python3.10/asyncio/base_events.py\", line 1909, in _run_once\n      handle._run()\n    File \"/home/jkim/.pyenv/versions/3.10.12/lib/python3.10/asyncio/events.py\", line 80, in _run\n      self._context.run(self._callback, *self._args)\n    File \"/home/jkim/.pyenv/versions/ai-310/lib/python3.10/site-packages/ipykernel/kernelbase.py\", line 516, in dispatch_queue\n      await self.process_one()\n    File \"/home/jkim/.pyenv/versions/ai-310/lib/python3.10/site-packages/ipykernel/kernelbase.py\", line 505, in process_one\n      await dispatch(*args)\n    File \"/home/jkim/.pyenv/versions/ai-310/lib/python3.10/site-packages/ipykernel/kernelbase.py\", line 412, in dispatch_shell\n      await result\n    File \"/home/jkim/.pyenv/versions/ai-310/lib/python3.10/site-packages/ipykernel/kernelbase.py\", line 740, in execute_request\n      reply_content = await reply_content\n    File \"/home/jkim/.pyenv/versions/ai-310/lib/python3.10/site-packages/ipykernel/ipkernel.py\", line 422, in do_execute\n      res = shell.run_cell(\n    File \"/home/jkim/.pyenv/versions/ai-310/lib/python3.10/site-packages/ipykernel/zmqshell.py\", line 546, in run_cell\n      return super().run_cell(*args, **kwargs)\n    File \"/home/jkim/.pyenv/versions/ai-310/lib/python3.10/site-packages/IPython/core/interactiveshell.py\", line 3024, in run_cell\n      result = self._run_cell(\n    File \"/home/jkim/.pyenv/versions/ai-310/lib/python3.10/site-packages/IPython/core/interactiveshell.py\", line 3079, in _run_cell\n      result = runner(coro)\n    File \"/home/jkim/.pyenv/versions/ai-310/lib/python3.10/site-packages/IPython/core/async_helpers.py\", line 129, in _pseudo_sync_runner\n      coro.send(None)\n    File \"/home/jkim/.pyenv/versions/ai-310/lib/python3.10/site-packages/IPython/core/interactiveshell.py\", line 3284, in run_cell_async\n      has_raised = await self.run_ast_nodes(code_ast.body, cell_name,\n    File \"/home/jkim/.pyenv/versions/ai-310/lib/python3.10/site-packages/IPython/core/interactiveshell.py\", line 3466, in run_ast_nodes\n      if await self.run_code(code, result, async_=asy):\n    File \"/home/jkim/.pyenv/versions/ai-310/lib/python3.10/site-packages/IPython/core/interactiveshell.py\", line 3526, in run_code\n      exec(code_obj, self.user_global_ns, self.user_ns)\n    File \"/tmp/ipykernel_13187/2844400870.py\", line 1, in <module>\n      cnn.fit(\n    File \"/home/jkim/.pyenv/versions/ai-310/lib/python3.10/site-packages/keras/src/utils/traceback_utils.py\", line 65, in error_handler\n      return fn(*args, **kwargs)\n    File \"/home/jkim/.pyenv/versions/ai-310/lib/python3.10/site-packages/keras/src/engine/training.py\", line 1742, in fit\n      tmp_logs = self.train_function(iterator)\n    File \"/home/jkim/.pyenv/versions/ai-310/lib/python3.10/site-packages/keras/src/engine/training.py\", line 1338, in train_function\n      return step_function(self, iterator)\n    File \"/home/jkim/.pyenv/versions/ai-310/lib/python3.10/site-packages/keras/src/engine/training.py\", line 1322, in step_function\n      outputs = model.distribute_strategy.run(run_step, args=(data,))\n    File \"/home/jkim/.pyenv/versions/ai-310/lib/python3.10/site-packages/keras/src/engine/training.py\", line 1303, in run_step\n      outputs = model.train_step(data)\n    File \"/home/jkim/.pyenv/versions/ai-310/lib/python3.10/site-packages/keras/src/engine/training.py\", line 1085, in train_step\n      return self.compute_metrics(x, y, y_pred, sample_weight)\n    File \"/home/jkim/.pyenv/versions/ai-310/lib/python3.10/site-packages/keras/src/engine/training.py\", line 1179, in compute_metrics\n      self.compiled_metrics.update_state(y, y_pred, sample_weight)\n    File \"/home/jkim/.pyenv/versions/ai-310/lib/python3.10/site-packages/keras/src/engine/compile_utils.py\", line 605, in update_state\n      metric_obj.update_state(y_t, y_p, sample_weight=mask)\n    File \"/home/jkim/.pyenv/versions/ai-310/lib/python3.10/site-packages/keras/src/utils/metrics_utils.py\", line 77, in decorated\n      update_op = update_state_fn(*args, **kwargs)\n    File \"/home/jkim/.pyenv/versions/ai-310/lib/python3.10/site-packages/keras/src/metrics/base_metric.py\", line 140, in update_state_fn\n      return ag_update_state(*args, **kwargs)\n    File \"/home/jkim/.pyenv/versions/ai-310/lib/python3.10/site-packages/keras/src/metrics/base_metric.py\", line 723, in update_state\n      matches = ag_fn(y_true, y_pred, **self._fn_kwargs)\n    File \"/home/jkim/.pyenv/versions/ai-310/lib/python3.10/site-packages/keras/src/metrics/accuracy_metrics.py\", line 459, in sparse_categorical_accuracy\n      matches = metrics_utils.sparse_categorical_matches(y_true, y_pred)\n    File \"/home/jkim/.pyenv/versions/ai-310/lib/python3.10/site-packages/keras/src/utils/metrics_utils.py\", line 968, in sparse_categorical_matches\n      matches = tf.cast(tf.equal(y_true, y_pred), backend.floatx())\nNode: 'Equal'\nIncompatible shapes: [32,31,31] vs. [32]\n\t [[{{node Equal}}]] [Op:__inference_train_function_658]",
     "output_type": "error",
     "traceback": [
      "\u001b[0;31m---------------------------------------------------------------------------\u001b[0m",
      "\u001b[0;31mInvalidArgumentError\u001b[0m                      Traceback (most recent call last)",
      "Cell \u001b[0;32mIn[10], line 1\u001b[0m\n\u001b[0;32m----> 1\u001b[0m \u001b[43mcnn\u001b[49m\u001b[38;5;241;43m.\u001b[39;49m\u001b[43mfit\u001b[49m\u001b[43m(\u001b[49m\n\u001b[1;32m      2\u001b[0m \u001b[43m    \u001b[49m\u001b[43mx\u001b[49m\u001b[38;5;241;43m=\u001b[39;49m\u001b[43mtrain_generator\u001b[49m\u001b[43m,\u001b[49m\n\u001b[1;32m      3\u001b[0m \u001b[43m    \u001b[49m\u001b[43mvalidation_data\u001b[49m\u001b[38;5;241;43m=\u001b[39;49m\u001b[43mvalidation_generator\u001b[49m\u001b[43m,\u001b[49m\n\u001b[1;32m      4\u001b[0m \u001b[43m    \u001b[49m\u001b[43mepochs\u001b[49m\u001b[38;5;241;43m=\u001b[39;49m\u001b[38;5;241;43m25\u001b[39;49m\n\u001b[1;32m      5\u001b[0m \u001b[43m)\u001b[49m\n",
      "File \u001b[0;32m~/.pyenv/versions/ai-310/lib/python3.10/site-packages/keras/src/utils/traceback_utils.py:70\u001b[0m, in \u001b[0;36mfilter_traceback.<locals>.error_handler\u001b[0;34m(*args, **kwargs)\u001b[0m\n\u001b[1;32m     67\u001b[0m     filtered_tb \u001b[38;5;241m=\u001b[39m _process_traceback_frames(e\u001b[38;5;241m.\u001b[39m__traceback__)\n\u001b[1;32m     68\u001b[0m     \u001b[38;5;66;03m# To get the full stack trace, call:\u001b[39;00m\n\u001b[1;32m     69\u001b[0m     \u001b[38;5;66;03m# `tf.debugging.disable_traceback_filtering()`\u001b[39;00m\n\u001b[0;32m---> 70\u001b[0m     \u001b[38;5;28;01mraise\u001b[39;00m e\u001b[38;5;241m.\u001b[39mwith_traceback(filtered_tb) \u001b[38;5;28;01mfrom\u001b[39;00m \u001b[38;5;28;01mNone\u001b[39;00m\n\u001b[1;32m     71\u001b[0m \u001b[38;5;28;01mfinally\u001b[39;00m:\n\u001b[1;32m     72\u001b[0m     \u001b[38;5;28;01mdel\u001b[39;00m filtered_tb\n",
      "File \u001b[0;32m~/.pyenv/versions/ai-310/lib/python3.10/site-packages/tensorflow/python/eager/execute.py:53\u001b[0m, in \u001b[0;36mquick_execute\u001b[0;34m(op_name, num_outputs, inputs, attrs, ctx, name)\u001b[0m\n\u001b[1;32m     51\u001b[0m \u001b[38;5;28;01mtry\u001b[39;00m:\n\u001b[1;32m     52\u001b[0m   ctx\u001b[38;5;241m.\u001b[39mensure_initialized()\n\u001b[0;32m---> 53\u001b[0m   tensors \u001b[38;5;241m=\u001b[39m pywrap_tfe\u001b[38;5;241m.\u001b[39mTFE_Py_Execute(ctx\u001b[38;5;241m.\u001b[39m_handle, device_name, op_name,\n\u001b[1;32m     54\u001b[0m                                       inputs, attrs, num_outputs)\n\u001b[1;32m     55\u001b[0m \u001b[38;5;28;01mexcept\u001b[39;00m core\u001b[38;5;241m.\u001b[39m_NotOkStatusException \u001b[38;5;28;01mas\u001b[39;00m e:\n\u001b[1;32m     56\u001b[0m   \u001b[38;5;28;01mif\u001b[39;00m name \u001b[38;5;129;01mis\u001b[39;00m \u001b[38;5;129;01mnot\u001b[39;00m \u001b[38;5;28;01mNone\u001b[39;00m:\n",
      "\u001b[0;31mInvalidArgumentError\u001b[0m: Graph execution error:\n\nDetected at node 'Equal' defined at (most recent call last):\n    File \"/home/jkim/.pyenv/versions/3.10.12/lib/python3.10/runpy.py\", line 196, in _run_module_as_main\n      return _run_code(code, main_globals, None,\n    File \"/home/jkim/.pyenv/versions/3.10.12/lib/python3.10/runpy.py\", line 86, in _run_code\n      exec(code, run_globals)\n    File \"/home/jkim/.pyenv/versions/ai-310/lib/python3.10/site-packages/ipykernel_launcher.py\", line 17, in <module>\n      app.launch_new_instance()\n    File \"/home/jkim/.pyenv/versions/ai-310/lib/python3.10/site-packages/traitlets/config/application.py\", line 1043, in launch_instance\n      app.start()\n    File \"/home/jkim/.pyenv/versions/ai-310/lib/python3.10/site-packages/ipykernel/kernelapp.py\", line 736, in start\n      self.io_loop.start()\n    File \"/home/jkim/.pyenv/versions/ai-310/lib/python3.10/site-packages/tornado/platform/asyncio.py\", line 195, in start\n      self.asyncio_loop.run_forever()\n    File \"/home/jkim/.pyenv/versions/3.10.12/lib/python3.10/asyncio/base_events.py\", line 603, in run_forever\n      self._run_once()\n    File \"/home/jkim/.pyenv/versions/3.10.12/lib/python3.10/asyncio/base_events.py\", line 1909, in _run_once\n      handle._run()\n    File \"/home/jkim/.pyenv/versions/3.10.12/lib/python3.10/asyncio/events.py\", line 80, in _run\n      self._context.run(self._callback, *self._args)\n    File \"/home/jkim/.pyenv/versions/ai-310/lib/python3.10/site-packages/ipykernel/kernelbase.py\", line 516, in dispatch_queue\n      await self.process_one()\n    File \"/home/jkim/.pyenv/versions/ai-310/lib/python3.10/site-packages/ipykernel/kernelbase.py\", line 505, in process_one\n      await dispatch(*args)\n    File \"/home/jkim/.pyenv/versions/ai-310/lib/python3.10/site-packages/ipykernel/kernelbase.py\", line 412, in dispatch_shell\n      await result\n    File \"/home/jkim/.pyenv/versions/ai-310/lib/python3.10/site-packages/ipykernel/kernelbase.py\", line 740, in execute_request\n      reply_content = await reply_content\n    File \"/home/jkim/.pyenv/versions/ai-310/lib/python3.10/site-packages/ipykernel/ipkernel.py\", line 422, in do_execute\n      res = shell.run_cell(\n    File \"/home/jkim/.pyenv/versions/ai-310/lib/python3.10/site-packages/ipykernel/zmqshell.py\", line 546, in run_cell\n      return super().run_cell(*args, **kwargs)\n    File \"/home/jkim/.pyenv/versions/ai-310/lib/python3.10/site-packages/IPython/core/interactiveshell.py\", line 3024, in run_cell\n      result = self._run_cell(\n    File \"/home/jkim/.pyenv/versions/ai-310/lib/python3.10/site-packages/IPython/core/interactiveshell.py\", line 3079, in _run_cell\n      result = runner(coro)\n    File \"/home/jkim/.pyenv/versions/ai-310/lib/python3.10/site-packages/IPython/core/async_helpers.py\", line 129, in _pseudo_sync_runner\n      coro.send(None)\n    File \"/home/jkim/.pyenv/versions/ai-310/lib/python3.10/site-packages/IPython/core/interactiveshell.py\", line 3284, in run_cell_async\n      has_raised = await self.run_ast_nodes(code_ast.body, cell_name,\n    File \"/home/jkim/.pyenv/versions/ai-310/lib/python3.10/site-packages/IPython/core/interactiveshell.py\", line 3466, in run_ast_nodes\n      if await self.run_code(code, result, async_=asy):\n    File \"/home/jkim/.pyenv/versions/ai-310/lib/python3.10/site-packages/IPython/core/interactiveshell.py\", line 3526, in run_code\n      exec(code_obj, self.user_global_ns, self.user_ns)\n    File \"/tmp/ipykernel_13187/2844400870.py\", line 1, in <module>\n      cnn.fit(\n    File \"/home/jkim/.pyenv/versions/ai-310/lib/python3.10/site-packages/keras/src/utils/traceback_utils.py\", line 65, in error_handler\n      return fn(*args, **kwargs)\n    File \"/home/jkim/.pyenv/versions/ai-310/lib/python3.10/site-packages/keras/src/engine/training.py\", line 1742, in fit\n      tmp_logs = self.train_function(iterator)\n    File \"/home/jkim/.pyenv/versions/ai-310/lib/python3.10/site-packages/keras/src/engine/training.py\", line 1338, in train_function\n      return step_function(self, iterator)\n    File \"/home/jkim/.pyenv/versions/ai-310/lib/python3.10/site-packages/keras/src/engine/training.py\", line 1322, in step_function\n      outputs = model.distribute_strategy.run(run_step, args=(data,))\n    File \"/home/jkim/.pyenv/versions/ai-310/lib/python3.10/site-packages/keras/src/engine/training.py\", line 1303, in run_step\n      outputs = model.train_step(data)\n    File \"/home/jkim/.pyenv/versions/ai-310/lib/python3.10/site-packages/keras/src/engine/training.py\", line 1085, in train_step\n      return self.compute_metrics(x, y, y_pred, sample_weight)\n    File \"/home/jkim/.pyenv/versions/ai-310/lib/python3.10/site-packages/keras/src/engine/training.py\", line 1179, in compute_metrics\n      self.compiled_metrics.update_state(y, y_pred, sample_weight)\n    File \"/home/jkim/.pyenv/versions/ai-310/lib/python3.10/site-packages/keras/src/engine/compile_utils.py\", line 605, in update_state\n      metric_obj.update_state(y_t, y_p, sample_weight=mask)\n    File \"/home/jkim/.pyenv/versions/ai-310/lib/python3.10/site-packages/keras/src/utils/metrics_utils.py\", line 77, in decorated\n      update_op = update_state_fn(*args, **kwargs)\n    File \"/home/jkim/.pyenv/versions/ai-310/lib/python3.10/site-packages/keras/src/metrics/base_metric.py\", line 140, in update_state_fn\n      return ag_update_state(*args, **kwargs)\n    File \"/home/jkim/.pyenv/versions/ai-310/lib/python3.10/site-packages/keras/src/metrics/base_metric.py\", line 723, in update_state\n      matches = ag_fn(y_true, y_pred, **self._fn_kwargs)\n    File \"/home/jkim/.pyenv/versions/ai-310/lib/python3.10/site-packages/keras/src/metrics/accuracy_metrics.py\", line 459, in sparse_categorical_accuracy\n      matches = metrics_utils.sparse_categorical_matches(y_true, y_pred)\n    File \"/home/jkim/.pyenv/versions/ai-310/lib/python3.10/site-packages/keras/src/utils/metrics_utils.py\", line 968, in sparse_categorical_matches\n      matches = tf.cast(tf.equal(y_true, y_pred), backend.floatx())\nNode: 'Equal'\nIncompatible shapes: [32,31,31] vs. [32]\n\t [[{{node Equal}}]] [Op:__inference_train_function_658]"
     ]
    }
   ],
   "source": [
    "cnn.fit(\n",
    "    x=train_generator,\n",
    "    validation_data=validation_generator,\n",
    "    epochs=25\n",
    ")"
   ]
  },
  {
   "cell_type": "code",
   "execution_count": null,
   "id": "918a98b9-2dad-4c92-986c-80ec61f3eddf",
   "metadata": {},
   "outputs": [],
   "source": []
  }
 ],
 "metadata": {
  "kernelspec": {
   "display_name": "ai-310",
   "language": "python",
   "name": "ai-310"
  },
  "language_info": {
   "codemirror_mode": {
    "name": "ipython",
    "version": 3
   },
   "file_extension": ".py",
   "mimetype": "text/x-python",
   "name": "python",
   "nbconvert_exporter": "python",
   "pygments_lexer": "ipython3",
   "version": "3.10.12"
  }
 },
 "nbformat": 4,
 "nbformat_minor": 5
}
